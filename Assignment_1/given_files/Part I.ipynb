{
 "cells": [
  {
   "cell_type": "code",
   "execution_count": null,
   "metadata": {},
   "outputs": [],
   "source": [
    "import numpy as np\n",
    "import scipy as sp\n",
    "\n",
    "import matplotlib.pyplot as plt\n",
    "%matplotlib inline\n",
    "\n",
    "import geometry\n",
    "import model\n",
    "import solvers"
   ]
  },
  {
   "cell_type": "code",
   "execution_count": null,
   "metadata": {},
   "outputs": [],
   "source": [
    "mesh, BCs = geometry.getArc()\n",
    "coordinates, connectivity = mesh['coordinates'], mesh['connectivity']\n",
    "\n",
    "modelA = model.Model()\n",
    "modelA.mesh.addNodes(coordinates)\n",
    "modelA.mesh.addConnectivity(connectivity)\n",
    "\n",
    "modelA.material.setProperties(40000, 0.2)\n",
    "modelA.section.setProperties(1)\n",
    "\n",
    "modelA.setBoundaryConditions(BCs)"
   ]
  },
  {
   "cell_type": "code",
   "execution_count": null,
   "metadata": {},
   "outputs": [],
   "source": [
    "modelA.plotUndeformed(size=(16, 4))"
   ]
  },
  {
   "cell_type": "code",
   "execution_count": null,
   "metadata": {},
   "outputs": [],
   "source": [
    "solver = solvers.Static()\n",
    "\n",
    "solver.setTolerance(1e-3)\n",
    "solver.setMaxIterations(20)\n",
    "solver.setSolutionAttempts(5)"
   ]
  },
  {
   "cell_type": "code",
   "execution_count": null,
   "metadata": {},
   "outputs": [],
   "source": [
    "# Arc-length\n",
    "solver.setConstraint('...')\n",
    "u, lambdas = solver.solve(modelA, np.ones(1000))"
   ]
  },
  {
   "cell_type": "code",
   "execution_count": null,
   "metadata": {},
   "outputs": [],
   "source": [
    "plt.figure(figsize=(16, 4))\n",
    "plt.plot(u, lambdas)\n",
    "\n",
    "plt.xlabel('Displacement')\n",
    "plt.ylabel(r'$\\lambda$')"
   ]
  },
  {
   "cell_type": "code",
   "execution_count": null,
   "metadata": {},
   "outputs": [],
   "source": [
    "modelA.plotUndeformed()\n",
    "modelA.plotDeformed(scale=1, alpha=0.25)"
   ]
  }
 ],
 "metadata": {
  "kernelspec": {
   "display_name": "Python 3 (ipykernel)",
   "language": "python",
   "name": "python3"
  },
  "language_info": {
   "codemirror_mode": {
    "name": "ipython",
    "version": 3
   },
   "file_extension": ".py",
   "mimetype": "text/x-python",
   "name": "python",
   "nbconvert_exporter": "python",
   "pygments_lexer": "ipython3",
   "version": "3.12.4"
  },
  "vscode": {
   "interpreter": {
    "hash": "fe63471b05735e7e03626ce7c42fa5e82080997846f8910d4690dd7b40e9d7e8"
   }
  }
 },
 "nbformat": 4,
 "nbformat_minor": 4
}
